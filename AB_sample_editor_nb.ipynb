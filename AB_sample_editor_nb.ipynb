{
 "cells": [
  {
   "cell_type": "code",
   "execution_count": 1,
   "metadata": {},
   "outputs": [],
   "source": [
    "from pydub import AudioSegment\n",
    "from pydub.playback import play"
   ]
  },
  {
   "cell_type": "markdown",
   "metadata": {},
   "source": [
    "# Jomox Alpha Base Sample Editor\n",
    "\n",
    "Alpha Base sample requirements:\n",
    "- WAV or RAW\n",
    "- 48kHz\n",
    "- 16bit\n",
    "- Mono\n",
    "- 1.35 seconds\n",
    "\n",
    "Other requirements:\n",
    "- Check stock RAW samples easily to combine custom set of samples\n",
    "- Sample shrinker\n",
    "- Expand/maximize audio\n",
    "- Cut off and clips\n",
    "\n",
    "Other possible additions:\n",
    "- Record sample using mic input\n",
    "- Pull sample from YouTube video\n",
    "- Slider to find best sample position\n",
    "- Detect BPM for loop samples\n",
    "- Remove leading silence\n",
    "\n",
    "Currently using pydub but consider: PyAudio, librosa, wxPython (consider licenses)"
   ]
  },
  {
   "cell_type": "code",
   "execution_count": 2,
   "metadata": {},
   "outputs": [],
   "source": [
    "audio_to_sample = AudioSegment.from_file('sample_files/Bulldozer Amen.wav', 'wav')"
   ]
  },
  {
   "cell_type": "code",
   "execution_count": 3,
   "metadata": {},
   "outputs": [
    {
     "name": "stderr",
     "output_type": "stream",
     "text": [
      "Input #0, wav, from '/var/folders/59/lxrld611701d0lhrpc3jmwmm0000gn/T/tmpll3m18lb.wav':\n",
      "  Duration: 00:00:01.35, bitrate: 1411 kb/s\n",
      "  Stream #0:0: Audio: pcm_s16le ([1][0][0][0] / 0x0001), 44100 Hz, 2 channels, s16, 1411 kb/s\n",
      "   1.30 M-A:  0.000 fd=   0 aq=    0KB vq=    0KB sq=    0B f=0/0   \r"
     ]
    },
    {
     "name": "stdout",
     "output_type": "stream",
     "text": [
      "\n"
     ]
    }
   ],
   "source": [
    "play(audio_to_sample[:1.35 * 1000].fade_out(200))"
   ]
  },
  {
   "cell_type": "code",
   "execution_count": 4,
   "metadata": {},
   "outputs": [],
   "source": [
    "user_settings = {'Shorten': 'Squeeze'} # Squeeze or Truncate"
   ]
  },
  {
   "cell_type": "code",
   "execution_count": 5,
   "metadata": {},
   "outputs": [
    {
     "data": {
      "text/plain": [
       "1350"
      ]
     },
     "execution_count": 5,
     "metadata": {},
     "output_type": "execute_result"
    }
   ],
   "source": [
    "len(audio_to_sample[:1.35 * 1000])"
   ]
  },
  {
   "cell_type": "code",
   "execution_count": 6,
   "metadata": {},
   "outputs": [
    {
     "name": "stdout",
     "output_type": "stream",
     "text": [
      "we gotta change this to mono\n",
      "new: 1\n",
      "we gotta change the sample rate\n",
      "new: 48000\n",
      "we need to do something about the length\n",
      "going to squeeze the audio\n"
     ]
    }
   ],
   "source": [
    "# need to rearrange these to create the least destructive audio processing\n",
    "if audio_to_sample.sample_width * 8 != 16: # bits\n",
    "    print('we gotta change the bit rate') # Increasing this value does not generally cause a reduction in quality. Reducing it definitely does cause a loss in quality.\n",
    "    audio_to_sample = audio_to_sample.set_sample_width(16/8)\n",
    "    print('new: ' + f'{audio_to_sample.sample_width}')\n",
    "\n",
    "if audio_to_sample.channels != 1: # mono (1) or stereo (2)\n",
    "    print('we gotta change this to mono')\n",
    "    audio_to_sample = audio_to_sample.set_channels(1) # Converting from stereo to mono may result in loss of quality (but only if the left and right chanels differ).\n",
    "    print('new: '+ f'{audio_to_sample.channels}')\n",
    "\n",
    "if audio_to_sample.frame_rate != 48000: # Hz\n",
    "    print('we gotta change the sample rate') # confirmed that changing frame_rate doesn't change playback speed/pitch\n",
    "    audio_to_sample = audio_to_sample.set_frame_rate(48000) # Increasing this value does not generally cause a reduction in quality. Reducing it definitely does cause a loss in quality.)\n",
    "    print('new: ' + f'{audio_to_sample.frame_rate}')\n",
    "    \n",
    "if len(audio_to_sample) > 1.35 * 1000:\n",
    "    print('we need to do something about the length')\n",
    "    if user_settings['Shorten'] == 'Truncate':\n",
    "        print('going to truncate the audio')\n",
    "        audio_to_sample = audio_to_sample[:1.35 * 1000]\n",
    "    elif user_settings['Shorten'] == 'Squeeze':\n",
    "        print('going to squeeze the audio')\n",
    "        audio_to_sample = audio_to_sample.speedup(playback_speed=len(audio_to_sample)/1150)"
   ]
  },
  {
   "cell_type": "code",
   "execution_count": 7,
   "metadata": {},
   "outputs": [
    {
     "data": {
      "text/plain": [
       "1208"
      ]
     },
     "execution_count": 7,
     "metadata": {},
     "output_type": "execute_result"
    }
   ],
   "source": [
    "len(audio_to_sample)"
   ]
  },
  {
   "cell_type": "code",
   "execution_count": 8,
   "metadata": {},
   "outputs": [
    {
     "name": "stderr",
     "output_type": "stream",
     "text": [
      "Input #0, wav, from '/var/folders/59/lxrld611701d0lhrpc3jmwmm0000gn/T/tmpmnxixph3.wav':\n",
      "  Duration: 00:00:01.21, bitrate: 768 kb/s\n",
      "  Stream #0:0: Audio: pcm_s16le ([1][0][0][0] / 0x0001), 48000 Hz, 1 channels, s16, 768 kb/s\n",
      "   1.10 M-A:  0.000 fd=   0 aq=    0KB vq=    0KB sq=    0B f=0/0   \r"
     ]
    },
    {
     "name": "stdout",
     "output_type": "stream",
     "text": [
      "\n"
     ]
    },
    {
     "name": "stderr",
     "output_type": "stream",
     "text": [
      "   1.17 M-A:  0.000 fd=   0 aq=    0KB vq=    0KB sq=    0B f=0/0   \r"
     ]
    }
   ],
   "source": [
    "play(audio_to_sample[:1.35 * 1000])"
   ]
  },
  {
   "cell_type": "code",
   "execution_count": 65,
   "metadata": {},
   "outputs": [
    {
     "name": "stderr",
     "output_type": "stream",
     "text": [
      "Input #0, wav, from '/var/folders/59/lxrld611701d0lhrpc3jmwmm0000gn/T/tmp5m4ozz1q.wav':\n",
      "  Duration: 00:00:00.35, bitrate: 1537 kb/s\n",
      "  Stream #0:0: Audio: pcm_s16le ([1][0][0][0] / 0x0001), 48000 Hz, 2 channels, s16, 1536 kb/s\n",
      "[pcm_s16le @ 0x7f996240dc40] Multiple frames in a packet.0B f=0/0   \n",
      "[pcm_s16le @ 0x7f996240dc40] Invalid PCM packet, data has size 2 but at least a size of 4 was expected\n",
      "   0.21 M-A:  0.000 fd=   0 aq=    0KB vq=    0KB sq=    0B f=0/0   \r"
     ]
    },
    {
     "name": "stdout",
     "output_type": "stream",
     "text": [
      "\n"
     ]
    },
    {
     "name": "stderr",
     "output_type": "stream",
     "text": [
      "   0.28 M-A:  0.000 fd=   0 aq=    0KB vq=    0KB sq=    0B f=0/0   \r"
     ]
    }
   ],
   "source": [
    "play(AudioSegment.from_file('sample_files/AlphaBaseWaves/ABWV0230.raw', 'raw',\n",
    "                       frame_rate=48000, channels=2, sample_width=2))"
   ]
  },
  {
   "cell_type": "code",
   "execution_count": null,
   "metadata": {},
   "outputs": [],
   "source": []
  }
 ],
 "metadata": {
  "interpreter": {
   "hash": "046f161158eade6d265cc5623c183d1069ccda336247d941cfdedfbc87b3e1a7"
  },
  "kernelspec": {
   "display_name": "Python 3.8.2 ('ac_register_plot': venv)",
   "language": "python",
   "name": "python3"
  },
  "language_info": {
   "codemirror_mode": {
    "name": "ipython",
    "version": 3
   },
   "file_extension": ".py",
   "mimetype": "text/x-python",
   "name": "python",
   "nbconvert_exporter": "python",
   "pygments_lexer": "ipython3",
   "version": "3.8.2"
  },
  "orig_nbformat": 4
 },
 "nbformat": 4,
 "nbformat_minor": 2
}
