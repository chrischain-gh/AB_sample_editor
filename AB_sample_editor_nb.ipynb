{
 "cells": [
  {
   "cell_type": "code",
   "execution_count": 79,
   "metadata": {},
   "outputs": [],
   "source": [
    "from pydub import AudioSegment\n",
    "from pydub.playback import play"
   ]
  },
  {
   "cell_type": "markdown",
   "metadata": {},
   "source": [
    "# Jomox Alpha Base Sample Editor\n",
    "\n",
    "Alpha Base sample requirements:\n",
    "- WAV or RAW\n",
    "- 48kHz\n",
    "- 16bit\n",
    "- Mono\n",
    "- 1.35 seconds\n",
    "\n",
    "Other requirements:\n",
    "- Check stock RAW samples easily to combine custom set of samples\n",
    "- Sample shrinker\n",
    "\n",
    "Other possible additions:\n",
    "- Record sample using mic input\n",
    "- Pull sample from YouTube video\n",
    "- Slider to find best sample position"
   ]
  },
  {
   "cell_type": "code",
   "execution_count": 80,
   "metadata": {},
   "outputs": [],
   "source": [
    "audio_to_sample = AudioSegment.from_file('sample_files/stol - NRG Weapon - 10 Where FM Here (NDY Mix).mp3', 'mp3')"
   ]
  },
  {
   "cell_type": "code",
   "execution_count": 84,
   "metadata": {},
   "outputs": [
    {
     "name": "stderr",
     "output_type": "stream",
     "text": [
      "Input #0, wav, from '/var/folders/59/lxrld611701d0lhrpc3jmwmm0000gn/T/tmpc4qx51_7.wav':\n",
      "  Duration: 00:00:01.35, bitrate: 1411 kb/s\n",
      "  Stream #0:0: Audio: pcm_s16le ([1][0][0][0] / 0x0001), 44100 Hz, 2 channels, s16, 1411 kb/s\n",
      "   1.30 M-A:  0.000 fd=   0 aq=    0KB vq=    0KB sq=    0B f=0/0   \r"
     ]
    },
    {
     "name": "stdout",
     "output_type": "stream",
     "text": [
      "\n"
     ]
    }
   ],
   "source": [
    "play(audio_to_sample[:1.35 * 1000].fade_out(200))"
   ]
  },
  {
   "cell_type": "code",
   "execution_count": 85,
   "metadata": {},
   "outputs": [
    {
     "name": "stdout",
     "output_type": "stream",
     "text": [
      "we gotta change this to mono\n",
      "new: 1\n",
      "we gotta change the sample rate\n",
      "new: 48000\n"
     ]
    }
   ],
   "source": [
    "# need to rearrange these to creat the least destructive audio processing\n",
    "if audio_to_sample.sample_width * 8 != 16: # bits\n",
    "    print('we gotta change the bit rate') # Increasing this value does not generally cause a reduction in quality. Reducing it definitely does cause a loss in quality.\n",
    "    audio_to_sample = audio_to_sample.set_sample_width(16/8)\n",
    "    print('new: ' + f'{audio_to_sample.sample_width}')\n",
    "if audio_to_sample.channels != 1: # mono (1) or stereo (2)\n",
    "    print('we gotta change this to mono')\n",
    "    audio_to_sample = audio_to_sample.set_channels(1) # Converting from stereo to mono may result in loss of quality (but only if the left and right chanels differ).\n",
    "    print('new: '+ f'{audio_to_sample.channels}')\n",
    "if audio_to_sample.frame_rate != 48000: Hz\n",
    "    print('we gotta change the sample rate')\n",
    "    audio_to_sample = audio_to_sample.set_frame_rate(48000) # Increasing this value does not generally cause a reduction in quality. Reducing it definitely does cause a loss in quality.)\n",
    "    print('new: ' + f'{audio_to_sample.frame_rate}')"
   ]
  },
  {
   "cell_type": "code",
   "execution_count": null,
   "metadata": {},
   "outputs": [],
   "source": []
  }
 ],
 "metadata": {
  "interpreter": {
   "hash": "046f161158eade6d265cc5623c183d1069ccda336247d941cfdedfbc87b3e1a7"
  },
  "kernelspec": {
   "display_name": "Python 3.8.2 ('ac_register_plot': venv)",
   "language": "python",
   "name": "python3"
  },
  "language_info": {
   "codemirror_mode": {
    "name": "ipython",
    "version": 3
   },
   "file_extension": ".py",
   "mimetype": "text/x-python",
   "name": "python",
   "nbconvert_exporter": "python",
   "pygments_lexer": "ipython3",
   "version": "3.8.2"
  },
  "orig_nbformat": 4
 },
 "nbformat": 4,
 "nbformat_minor": 2
}
